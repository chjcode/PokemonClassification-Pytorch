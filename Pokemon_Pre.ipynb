{
  "nbformat": 4,
  "nbformat_minor": 0,
  "metadata": {
    "colab": {
      "name": "Pokemon_Pre",
      "provenance": []
    },
    "kernelspec": {
      "name": "python3",
      "display_name": "Python 3"
    },
    "language_info": {
      "name": "python"
    }
  },
  "cells": [
    {
      "cell_type": "code",
      "execution_count": null,
      "metadata": {
        "id": "gyt1eBcH0Vgs"
      },
      "outputs": [],
      "source": [
        "from google.colab import drive\n",
        "drive.mount('/content/drive')"
      ]
    },
    {
      "cell_type": "code",
      "source": [
        "#라이브러리 설치\n",
        "!pip install split-folders"
      ],
      "metadata": {
        "id": "vY53tFdP0Zqs"
      },
      "execution_count": null,
      "outputs": []
    },
    {
      "cell_type": "code",
      "source": [
        "#Import the libraries\n",
        "import zipfile\n",
        "import os\n",
        "zip_ref = zipfile.ZipFile('/content/drive/MyDrive/archive (2)_.zip', 'r') #Opens the zip file in read mode\n",
        "zip_ref.extractall('/tmp/dataset') #Extracts the files into the /tmp folder\n",
        "zip_ref.close()"
      ],
      "metadata": {
        "id": "6OzD9aEF0a8O"
      },
      "execution_count": null,
      "outputs": []
    },
    {
      "cell_type": "code",
      "source": [
        "import os\n",
        "import torch\n",
        "import torchvision\n",
        "import tarfile\n",
        "from torchvision.datasets.utils import download_url\n",
        "from torch.utils.data import random_split"
      ],
      "metadata": {
        "id": "auo09MQL0cD4"
      },
      "execution_count": null,
      "outputs": []
    },
    {
      "cell_type": "code",
      "source": [
        "data_dir = '../tmp/dataset/PokemonData'\n",
        "import os\n",
        "classes = os.listdir(data_dir)\n",
        "print(os.listdir(data_dir))\n",
        "print(len(classes))"
      ],
      "metadata": {
        "id": "-FolgZky0d_z"
      },
      "execution_count": null,
      "outputs": []
    },
    {
      "cell_type": "code",
      "source": [
        "import random\n",
        "import numpy as np\n",
        "import os\n",
        "import cv2\n",
        "import glob\n",
        "from PIL import Image\n",
        "import PIL.ImageOps\n",
        "\n",
        "#다음 변수를 수정하여 새로 만들 이미지 갯수를 정합니다.\n",
        "num_augmented_images = 50\n",
        "\n",
        "file_path = '/content/drive/MyDrive/ColabNotebooks/PokemonData/'\n",
        "dir_names = os.listdir(file_path)\n",
        "total_origin_dir_num = len(dir_names)\n",
        "print(len(dir_names))\n",
        "augment_cnt = 1\n",
        "\n",
        "\n",
        "for i in range(0, total_origin_dir_num):\n",
        "dir_name = dir_names[i]\n",
        "file_names=os.listdir(file_path+dir_name)\n",
        "total_origin_image_num=len(file_names)          #폴더당 이미지 개수\n",
        "for k in range(0, total_origin_image_num):      #폴더의 이미지만큼 반복\n",
        "change_picture_index = k\n",
        "file_name = file_names[change_picture_index]  #전환할 이미지\n",
        "origin_image_path = '/content/drive/MyDrive/ColabNotebooks/PokemonData/'+dir_name +'/'+file_name\n",
        "print(origin_image_path)\n",
        "image = Image.open(origin_image_path)\n",
        "random_augment = random.randrange(1,3)\n",
        "save_image_path='/content/drive/MyDrive/ColabNotebooks/PokemonData/'+dir_name+'/'\n",
        "if(random_augment == 1):\n",
        "#이미지 좌우 반전\n",
        "print(\"invert\")\n",
        "inverted_image = image.transpose(Image.FLIP_LEFT_RIGHT)\n",
        "inverted_image.save(save_image_path + 'inverted_' + str(augment_cnt) + '.png')   \n",
        "elif(random_augment == 2):\n",
        "#이미지 기울이기\n",
        "print(\"rotate\")\n",
        "rotated_image = image.rotate(random.randrange(-20, 20))\n",
        "rotated_image.save(save_image_path + 'rotated_' + str(augment_cnt) + '.png')\n",
        "\n",
        "augment_cnt += 1  #파일 개수\n",
        "augment_cnt=1#파일 개수 초기화"
      ],
      "metadata": {
        "id": "05R0Cz6U0f8U"
      },
      "execution_count": null,
      "outputs": []
    },
    {
      "cell_type": "code",
      "source": [
        "from torchvision.datasets import ImageFolder\n",
        "from torchvision.transforms import ToTensor\n",
        "from torchvision import transforms\n",
        "import torchvision.datasets as datasets\n",
        "from torch.utils.data import Dataset, DataLoader\n",
        "import splitfolders"
      ],
      "metadata": {
        "id": "sBANABl90grj"
      },
      "execution_count": null,
      "outputs": []
    },
    {
      "cell_type": "code",
      "source": [
        "#저장 경로를 drive로 해서 최초 1번만 실행\n",
        "splitfolders.ratio(\"/content/drive/MyDrive/ColabNotebooks/PokemonData\", output=\"/content/drive/MyDrive/ColabNotebooks/preprocessing\",seed=1337, ratio=(.8, .18, .02), group_prefix=None, move=False)"
      ],
      "metadata": {
        "id": "saZrMGmR09zx"
      },
      "execution_count": null,
      "outputs": []
    },
    {
      "cell_type": "code",
      "source": [
        "tf= transforms.Compose([\n",
        "    transforms.Resize((224,224)),transforms.ToTensor(),transforms.Normalize((0.5,),(0.5,))\n",
        "])\n",
        "\n",
        "#미리 드라이브에 저장해놓은 데이터를 로드\n",
        "train_data=datasets.ImageFolder(root='/content/drive/MyDrive/ColabNotebooks/preprocessing/train',transform=tf)\n",
        "test_data=datasets.ImageFolder(root='/content/drive/MyDrive/ColabNotebooks/preprocessing/val',transform=tf)"
      ],
      "metadata": {
        "id": "y511l08M1APB"
      },
      "execution_count": null,
      "outputs": []
    },
    {
      "cell_type": "code",
      "source": [
        "batch_size=32\n",
        "trainloader=DataLoader(train_data,batch_size=batch_size, shuffle=True)\n",
        "testloader=DataLoader(test_data,batch_size=batch_size, shuffle=True)\n",
        "train_images,train_labels=iter(trainloader).next()\n",
        "print(train_labels)"
      ],
      "metadata": {
        "id": "3fQe-WhY1CNB"
      },
      "execution_count": null,
      "outputs": []
    }
  ]
}