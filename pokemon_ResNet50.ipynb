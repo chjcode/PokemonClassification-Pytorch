{
  "nbformat": 4,
  "nbformat_minor": 0,
  "metadata": {
    "colab": {
      "name": "pokemon_ResNet50",
      "provenance": []
    },
    "kernelspec": {
      "name": "python3",
      "display_name": "Python 3"
    },
    "language_info": {
      "name": "python"
    }
  },
  "cells": [
    {
      "cell_type": "code",
      "execution_count": null,
      "metadata": {
        "id": "D55rQzGJEW5q"
      },
      "outputs": [],
      "source": [
        "import numpy as np\n",
        "import pandas as pd\n",
        "import os\n",
        "import torchvision\n"
      ]
    },
    {
      "cell_type": "code",
      "source": [
        "from google.colab import drive\n",
        "drive.mount('/content/drive')\n",
        "\n",
        "train = '/content/drive/MyDrive/ColabNotebooks/PokemonData'\n",
        "\n",
        "\n"
      ],
      "metadata": {
        "colab": {
          "base_uri": "https://localhost:8080/"
        },
        "id": "imbm084UEZqA",
        "outputId": "09757dfe-26ad-4a24-ff80-2dcd64646844"
      },
      "execution_count": null,
      "outputs": [
        {
          "output_type": "stream",
          "name": "stdout",
          "text": [
            "Mounted at /content/drive\n"
          ]
        }
      ]
    },
    {
      "cell_type": "markdown",
      "source": [
        "#ResNet50"
      ],
      "metadata": {
        "id": "6cH2YSwDXn2-"
      }
    },
    {
      "cell_type": "code",
      "source": [
        "from torchvision import models\n",
        "import torch.nn as nn\n",
        "import torch.optim as optim\n",
        "import torch\n",
        "\n",
        "resnet50 = models.resnet50(pretrained = True)\n",
        "\n",
        "for param in resnet50.parameters():   #가중치 freeze\n",
        "  param.requires_grad = False\n",
        "\n",
        "num_classes = 150\n",
        "num_ftrs = resnet50.fc.in_features\n",
        "\n",
        "resnet50.fc = nn.Linear(num_ftrs, num_classes)\n",
        "\n",
        "device = torch.device('cuda:0' if torch.cuda.is_available() else 'cpu')\n",
        "resnet50.to(device)\n",
        "\n",
        "criterion = nn.CrossEntropyLoss() \n",
        "\n",
        "optimizer_ft = optim.SGD(resnet50.parameters(), lr=0.001,momentum=0.9)\n",
        "exp_lr_scheduler = optim.lr_scheduler.StepLR(optimizer_ft, step_size =7, gamma=0.1)"
      ],
      "metadata": {
        "id": "g0pP30RdfSCa"
      },
      "execution_count": null,
      "outputs": []
    },
    {
      "cell_type": "code",
      "source": [
        "from tqdm import tqdm\n",
        "\n",
        "def train(dataloader, model, loss_fn, optimizer):\n",
        "    model.train()\n",
        "    pbar = tqdm(enumerate(dataloader), total = len(dataloader)) #\n",
        "    learning_loss = 0\n",
        "    sum_loss = 0\n",
        "\n",
        "    for batch, (X, y) in pbar:\n",
        "        X, y = X.to(device), y.to(device)\n",
        "\n",
        "        pred = model(X)\n",
        "        loss = loss_fn(pred, y)\n",
        "\n",
        "        # Backpropagation\n",
        "        optimizer.zero_grad()\n",
        "        loss.backward()\n",
        "        optimizer.step()\n",
        "\n",
        "        sum_loss = sum_loss + loss.item() #\n",
        "        learning_loss = sum_loss / (batch + 1)\n",
        "        \n",
        "        description = f'train loss : {round(learning_loss, 4)}'\n",
        "        pbar.set_description(description)\n",
        "\n",
        "def test(dataloader, model, loss_fn):\n",
        "    model.eval()  #\n",
        "    pbar = tqdm(enumerate(dataloader), total = len(dataloader)) #\n",
        "    learning_loss = 0\n",
        "    sum_loss = 0\n",
        "    learning_acc = 0\n",
        "    sum_acc = 0\n",
        "    correct = 0\n",
        "\n",
        "    for batch, (X, y) in pbar:\n",
        "      X, y = X.to(device), y.to(device)\n",
        "\n",
        "      pred = model(X)\n",
        "      loss = loss_fn(pred, y)\n",
        "      correct = (pred.argmax(1)==y).type(torch.float).sum().item()\n",
        "      acc = correct / batch_size\n",
        "      sum_acc += acc\n",
        "      learning_acc = sum_acc / (batch + 1)\n",
        "      sum_loss = sum_loss + loss.item() #\n",
        "      learning_loss = sum_loss / (batch + 1)\n",
        "\n",
        "      description = f'test loss : {learning_loss}  || test acc : {learning_acc}'\n",
        "      pbar.set_description(description)\n",
        "\n",
        "    return learning_acc"
      ],
      "metadata": {
        "id": "7svkqLjuFRxs"
      },
      "execution_count": null,
      "outputs": []
    },
    {
      "cell_type": "code",
      "source": [
        "epochs = 20\n",
        "best_acc = 0\n",
        "\n",
        "for t in range(epochs):\n",
        "  print(f\"Epoch {t+1}\\n-------------------------------\")\n",
        "  train(trainloader,resnet50,criterion,optimizer_ft)\n",
        "  acc = test(testloader,resnet50,criterion)\n",
        "  if acc > best_acc:\n",
        "    best_acc = acc\n",
        "    torch.save(resnet50.state_dict(),f'/content/drive/MyDrive/ColabNotebooks/maskmodel_{acc}.pt') #(모델의 현재 파라미터저장,저장경로)"
      ],
      "metadata": {
        "id": "nlqX83rsV9_u"
      },
      "execution_count": null,
      "outputs": []
    }
  ]
}