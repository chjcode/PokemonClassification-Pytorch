{
  "nbformat": 4,
  "nbformat_minor": 0,
  "metadata": {
    "colab": {
      "name": "Pokemon_Classification",
      "provenance": []
    },
    "kernelspec": {
      "name": "python3",
      "display_name": "Python 3"
    },
    "language_info": {
      "name": "python"
    }
  },
  "cells": [
    {
      "cell_type": "code",
      "execution_count": null,
      "metadata": {
        "id": "M9pO00j71kGj"
      },
      "outputs": [],
      "source": [
        "from google.colab import drive\n",
        "drive.mount('/content/drive')"
      ]
    },
    {
      "cell_type": "code",
      "source": [
        "!pip install cvlib"
      ],
      "metadata": {
        "id": "4wLcU4PT1pB1"
      },
      "execution_count": null,
      "outputs": []
    },
    {
      "cell_type": "code",
      "source": [
        "import torch\n",
        "from torchvision import models\n",
        "import torch.nn as nn\n",
        "\n",
        "path = '/content/drive/MyDrive/ColabNotebooks/pokemonmodel_0.905.pt'\n",
        "\n",
        "resnet50 = models.resnet50(pretrained = True)\n",
        "for param in resnet50.parameters():   #가중치 freeze\n",
        "  param.requires_grad = False\n",
        "\n",
        "num_classes = 150\n",
        "num_ftrs = resnet50.fc.in_features\n",
        "resnet50.fc = nn.Linear(num_ftrs, num_classes)\n",
        "device = torch.device('cuda:0' if torch.cuda.is_available() else 'cpu')\n",
        "resnet50.to(device)\n",
        "\n",
        "\n",
        "resnet50.load_state_dict(torch.load(path))\n",
        "resnet50.eval()  #Dropout, Batchnorm 등의 기능 비활성화"
      ],
      "metadata": {
        "id": "ELN0d2eU1pr7"
      },
      "execution_count": null,
      "outputs": []
    },
    {
      "cell_type": "code",
      "source": [
        "import cv2\n",
        "import cvlib as cv\n",
        "from google.colab.patches import cv2_imshow\n",
        "import torchvision.transforms as transforms\n",
        "import numpy as np\n",
        "from PIL import Image\n",
        "import os\n",
        "\n",
        "img = cv2.imread('12341.PNG')\n",
        "cv2_imshow(img)\n",
        "img = Image.fromarray(img)\n",
        "\n",
        "tf = transforms.Compose([\n",
        "                         transforms.Resize((224,224)),  \n",
        "                         transforms.ToTensor(),\n",
        "                         transforms.Normalize((0.5,),(0.5,))\n",
        "])\n",
        "\n",
        "\n",
        "img = tf(img).unsqueeze(0)  #resnet50에 넣기 위해 4D로 변환 후 모델에 넣기위해 transform\n",
        "img = img.to(device)  \n",
        "pred = resnet50(img)\n",
        "pokemon = pred.argmax(1)\n",
        "pokemon = int(pokemon)\n",
        "\n",
        "classes = os.listdir('/content/drive/MyDrive/ColabNotebooks/preprocessing/test')\n",
        "classes.sort()\n",
        "print(classes[pokemon])"
      ],
      "metadata": {
        "id": "fmHsxMkx1rCk"
      },
      "execution_count": null,
      "outputs": []
    }
  ]
}